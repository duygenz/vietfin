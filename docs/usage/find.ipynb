{
 "cells": [
  {
   "cell_type": "markdown",
   "metadata": {},
   "source": [
    "# Search for Symbols\n",
    "\n",
    "Finding the ticker symbol, security identifier, the sector, and other metadata is easy if you know where to look. This guide is intended to introduce some methods for searching, screening, and discovery.\n",
    "\n",
    "## Example: Find a Company\n",
    "\n",
    "Leave the `symbol` parameter empty to get the full list of companies available from a provider. Default provider of this command is `ssi`."
   ]
  },
  {
   "cell_type": "code",
   "execution_count": 1,
   "metadata": {},
   "outputs": [
    {
     "name": "stdout",
     "output_type": "stream",
     "text": [
      "Retrieved 1610 records for equity.search() from SSI.\n"
     ]
    },
    {
     "data": {
      "text/plain": [
       "VfObject\n",
       "\n",
       "results: [{'symbol': 'VVS', 'name': 'Công ty Cổ phần Đầu tư Phát triển Máy Việt Nam...\n",
       "provider: ssi\n",
       "extra: {'command_run_at': '2024-02-27T01:06:42.314412+00:00', 'symbol': '', 'record...\n",
       "raw_data: {'page': 1, 'pageSize': 0, 'totalCount': 1610, 'items': [{'organCode': '0..."
      ]
     },
     "execution_count": 1,
     "metadata": {},
     "output_type": "execute_result"
    }
   ],
   "source": [
    "from vietfin import vf\n",
    "\n",
    "vf.equity.search()"
   ]
  },
  {
   "cell_type": "markdown",
   "metadata": {},
   "source": [
    "Apply the `to_df()` method to view the output as a pandas dataframe."
   ]
  },
  {
   "cell_type": "code",
   "execution_count": 2,
   "metadata": {},
   "outputs": [
    {
     "name": "stdout",
     "output_type": "stream",
     "text": [
      "Retrieved 1610 records for equity.search() from SSI.\n"
     ]
    },
    {
     "data": {
      "text/html": [
       "<div>\n",
       "<style scoped>\n",
       "    .dataframe tbody tr th:only-of-type {\n",
       "        vertical-align: middle;\n",
       "    }\n",
       "\n",
       "    .dataframe tbody tr th {\n",
       "        vertical-align: top;\n",
       "    }\n",
       "\n",
       "    .dataframe thead th {\n",
       "        text-align: right;\n",
       "    }\n",
       "</style>\n",
       "<table border=\"1\" class=\"dataframe\">\n",
       "  <thead>\n",
       "    <tr style=\"text-align: right;\">\n",
       "      <th></th>\n",
       "      <th>symbol</th>\n",
       "      <th>name</th>\n",
       "      <th>short_name</th>\n",
       "      <th>code</th>\n",
       "    </tr>\n",
       "  </thead>\n",
       "  <tbody>\n",
       "    <tr>\n",
       "      <th>0</th>\n",
       "      <td>VVS</td>\n",
       "      <td>Công ty Cổ phần Đầu tư Phát triển Máy Việt Nam</td>\n",
       "      <td>Đầu tư Phát triển Máy Việt Nam</td>\n",
       "      <td>0104498100</td>\n",
       "    </tr>\n",
       "    <tr>\n",
       "      <th>1</th>\n",
       "      <td>VMK</td>\n",
       "      <td>Công ty Cổ Phần Vimarko</td>\n",
       "      <td>Vimarko</td>\n",
       "      <td>0108720772</td>\n",
       "    </tr>\n",
       "    <tr>\n",
       "      <th>2</th>\n",
       "      <td>HIO</td>\n",
       "      <td>Công ty Cổ Phần Helio Energy</td>\n",
       "      <td>Helio Energy</td>\n",
       "      <td>0109204756</td>\n",
       "    </tr>\n",
       "    <tr>\n",
       "      <th>3</th>\n",
       "      <td>SBG</td>\n",
       "      <td>Công ty Cổ Phần Tập Đoàn Cơ Khí Công Nghệ Cao ...</td>\n",
       "      <td>Tập Đoàn Cơ Khí Công Nghệ Cao Siba</td>\n",
       "      <td>0313140100</td>\n",
       "    </tr>\n",
       "    <tr>\n",
       "      <th>4</th>\n",
       "      <td>THM</td>\n",
       "      <td>Công ty Cổ phần Tứ Hải Hà Nam</td>\n",
       "      <td>Tứ Hải Hà Nam</td>\n",
       "      <td>0700519785</td>\n",
       "    </tr>\n",
       "  </tbody>\n",
       "</table>\n",
       "</div>"
      ],
      "text/plain": [
       "  symbol  ...        code\n",
       "0    VVS  ...  0104498100\n",
       "1    VMK  ...  0108720772\n",
       "2    HIO  ...  0109204756\n",
       "3    SBG  ...  0313140100\n",
       "4    THM  ...  0700519785\n",
       "\n",
       "[5 rows x 4 columns]"
      ]
     },
     "execution_count": 2,
     "metadata": {},
     "output_type": "execute_result"
    }
   ],
   "source": [
    "vf.equity.search().to_df().head(5)"
   ]
  },
  {
   "cell_type": "markdown",
   "metadata": {},
   "source": [
    "Now try to retrieve the full list from another provider."
   ]
  },
  {
   "cell_type": "code",
   "execution_count": 3,
   "metadata": {},
   "outputs": [
    {
     "name": "stdout",
     "output_type": "stream",
     "text": [
      "Retrieved 1751 records from WiFeed.\n"
     ]
    },
    {
     "data": {
      "text/plain": [
       "VfObject\n",
       "\n",
       "results: [{'symbol': 'A32', 'name': 'CTCP 32', 'exchange': 'UPCOM'}, {'symbol': 'AA...\n",
       "provider: wifeed\n",
       "extra: {'command_run_at': '2024-02-24T02:56:22.892455+00:00', 'symbol': '', 'record...\n",
       "raw_data: {'data': [{'code': 'A32', 'fullname_vi': 'CTCP 32', 'loaidn': 1, 'san': '..."
      ]
     },
     "execution_count": 3,
     "metadata": {},
     "output_type": "execute_result"
    }
   ],
   "source": [
    "vf.equity.search(provider=\"wifeed\")"
   ]
  },
  {
   "cell_type": "markdown",
   "metadata": {},
   "source": [
    "We can also search for a specific stock ticker."
   ]
  },
  {
   "cell_type": "code",
   "execution_count": 4,
   "metadata": {},
   "outputs": [
    {
     "name": "stdout",
     "output_type": "stream",
     "text": [
      "Retrieved 1 records for equity.search() from SSI.\n"
     ]
    },
    {
     "data": {
      "text/plain": [
       "VfObject\n",
       "\n",
       "results: [{'symbol': 'STB', 'name': 'Ngân hàng Thương mại Cổ phần Sài Gòn Thương Tí...\n",
       "provider: ssi\n",
       "extra: {'command_run_at': '2024-02-24T02:58:37.402959+00:00', 'symbol': 'STB', 'rec...\n",
       "raw_data: {'page': 1, 'pageSize': 0, 'totalCount': 1610, 'items': [{'organCode': '0..."
      ]
     },
     "execution_count": 4,
     "metadata": {},
     "output_type": "execute_result"
    }
   ],
   "source": [
    "vf.equity.search(symbol=\"stb\")"
   ]
  },
  {
   "cell_type": "markdown",
   "metadata": {},
   "source": [
    "## Find an Index\n",
    "\n",
    "Get the list of all available indices from a provider. Default provider is `ssi`."
   ]
  },
  {
   "cell_type": "code",
   "execution_count": 2,
   "metadata": {},
   "outputs": [
    {
     "name": "stdout",
     "output_type": "stream",
     "text": [
      "Retrieved 25 records.\n"
     ]
    },
    {
     "data": {
      "text/html": [
       "<div>\n",
       "<style scoped>\n",
       "    .dataframe tbody tr th:only-of-type {\n",
       "        vertical-align: middle;\n",
       "    }\n",
       "\n",
       "    .dataframe tbody tr th {\n",
       "        vertical-align: top;\n",
       "    }\n",
       "\n",
       "    .dataframe thead th {\n",
       "        text-align: right;\n",
       "    }\n",
       "</style>\n",
       "<table border=\"1\" class=\"dataframe\">\n",
       "  <thead>\n",
       "    <tr style=\"text-align: right;\">\n",
       "      <th></th>\n",
       "      <th>index_symbol</th>\n",
       "      <th>group_by_index</th>\n",
       "    </tr>\n",
       "  </thead>\n",
       "  <tbody>\n",
       "    <tr>\n",
       "      <th>0</th>\n",
       "      <td>HNX30</td>\n",
       "      <td>HNXIndex</td>\n",
       "    </tr>\n",
       "    <tr>\n",
       "      <th>1</th>\n",
       "      <td>HNXIndex</td>\n",
       "      <td>HNXIndex</td>\n",
       "    </tr>\n",
       "    <tr>\n",
       "      <th>2</th>\n",
       "      <td>UpcomIndex</td>\n",
       "      <td>UpcomIndex</td>\n",
       "    </tr>\n",
       "    <tr>\n",
       "      <th>3</th>\n",
       "      <td>VN100</td>\n",
       "      <td>VNINDEX</td>\n",
       "    </tr>\n",
       "    <tr>\n",
       "      <th>4</th>\n",
       "      <td>VN30</td>\n",
       "      <td>VNINDEX</td>\n",
       "    </tr>\n",
       "  </tbody>\n",
       "</table>\n",
       "</div>"
      ],
      "text/plain": [
       "  index_symbol group_by_index\n",
       "0        HNX30       HNXIndex\n",
       "1     HNXIndex       HNXIndex\n",
       "2   UpcomIndex     UpcomIndex\n",
       "3        VN100        VNINDEX\n",
       "4         VN30        VNINDEX"
      ]
     },
     "execution_count": 2,
     "metadata": {},
     "output_type": "execute_result"
    }
   ],
   "source": [
    "vf.index.search().to_df().head(5)"
   ]
  },
  {
   "cell_type": "markdown",
   "metadata": {},
   "source": [
    "Get the list of the constituent companies in the index. "
   ]
  },
  {
   "cell_type": "code",
   "execution_count": 3,
   "metadata": {},
   "outputs": [
    {
     "name": "stdout",
     "output_type": "stream",
     "text": [
      "Retrieved 30 records.\n"
     ]
    },
    {
     "data": {
      "text/html": [
       "<div>\n",
       "<style scoped>\n",
       "    .dataframe tbody tr th:only-of-type {\n",
       "        vertical-align: middle;\n",
       "    }\n",
       "\n",
       "    .dataframe tbody tr th {\n",
       "        vertical-align: top;\n",
       "    }\n",
       "\n",
       "    .dataframe thead th {\n",
       "        text-align: right;\n",
       "    }\n",
       "</style>\n",
       "<table border=\"1\" class=\"dataframe\">\n",
       "  <thead>\n",
       "    <tr style=\"text-align: right;\">\n",
       "      <th></th>\n",
       "      <th>symbol</th>\n",
       "      <th>name</th>\n",
       "      <th>open</th>\n",
       "      <th>high</th>\n",
       "      <th>low</th>\n",
       "      <th>prev_close</th>\n",
       "      <th>exchange</th>\n",
       "    </tr>\n",
       "  </thead>\n",
       "  <tbody>\n",
       "    <tr>\n",
       "      <th>0</th>\n",
       "      <td>ACB</td>\n",
       "      <td>Ngân hàng Thương mại Cổ phần Á Châu</td>\n",
       "      <td>0.0</td>\n",
       "      <td>0.0</td>\n",
       "      <td>0.0</td>\n",
       "      <td>27500.0</td>\n",
       "      <td>hose</td>\n",
       "    </tr>\n",
       "    <tr>\n",
       "      <th>1</th>\n",
       "      <td>BCM</td>\n",
       "      <td>Tổng Công ty Đầu tư và Phát triển Công nghiệp ...</td>\n",
       "      <td>0.0</td>\n",
       "      <td>0.0</td>\n",
       "      <td>0.0</td>\n",
       "      <td>63300.0</td>\n",
       "      <td>hose</td>\n",
       "    </tr>\n",
       "    <tr>\n",
       "      <th>2</th>\n",
       "      <td>BID</td>\n",
       "      <td>Ngân hàng Thương mại Cổ phần Đầu tư và Phát tr...</td>\n",
       "      <td>0.0</td>\n",
       "      <td>0.0</td>\n",
       "      <td>0.0</td>\n",
       "      <td>53600.0</td>\n",
       "      <td>hose</td>\n",
       "    </tr>\n",
       "    <tr>\n",
       "      <th>3</th>\n",
       "      <td>BVH</td>\n",
       "      <td>Tập đoàn Bảo Việt</td>\n",
       "      <td>0.0</td>\n",
       "      <td>0.0</td>\n",
       "      <td>0.0</td>\n",
       "      <td>42050.0</td>\n",
       "      <td>hose</td>\n",
       "    </tr>\n",
       "    <tr>\n",
       "      <th>4</th>\n",
       "      <td>CTG</td>\n",
       "      <td>Ngân hàng Thương mại Cổ phần Công thương Việt Nam</td>\n",
       "      <td>0.0</td>\n",
       "      <td>0.0</td>\n",
       "      <td>0.0</td>\n",
       "      <td>35650.0</td>\n",
       "      <td>hose</td>\n",
       "    </tr>\n",
       "  </tbody>\n",
       "</table>\n",
       "</div>"
      ],
      "text/plain": [
       "  symbol                                               name  open  high  low  \\\n",
       "0    ACB                Ngân hàng Thương mại Cổ phần Á Châu   0.0   0.0  0.0   \n",
       "1    BCM  Tổng Công ty Đầu tư và Phát triển Công nghiệp ...   0.0   0.0  0.0   \n",
       "2    BID  Ngân hàng Thương mại Cổ phần Đầu tư và Phát tr...   0.0   0.0  0.0   \n",
       "3    BVH                                  Tập đoàn Bảo Việt   0.0   0.0  0.0   \n",
       "4    CTG  Ngân hàng Thương mại Cổ phần Công thương Việt Nam   0.0   0.0  0.0   \n",
       "\n",
       "   prev_close exchange  \n",
       "0     27500.0     hose  \n",
       "1     63300.0     hose  \n",
       "2     53600.0     hose  \n",
       "3     42050.0     hose  \n",
       "4     35650.0     hose  "
      ]
     },
     "execution_count": 3,
     "metadata": {},
     "output_type": "execute_result"
    }
   ],
   "source": [
    "vf.index.constituents(symbol=\"vn30\").to_df().head(5)"
   ]
  },
  {
   "cell_type": "markdown",
   "metadata": {},
   "source": [
    "We always know which data provider is being used in a command, via the `provider` attribute of the `VfObject` class."
   ]
  },
  {
   "cell_type": "code",
   "execution_count": 3,
   "metadata": {},
   "outputs": [
    {
     "name": "stdout",
     "output_type": "stream",
     "text": [
      "Retrieved 30 records.\n"
     ]
    },
    {
     "data": {
      "text/plain": [
       "'ssi'"
      ]
     },
     "execution_count": 3,
     "metadata": {},
     "output_type": "execute_result"
    }
   ],
   "source": [
    "vf.index.constituents(symbol=\"vn30\").provider"
   ]
  }
 ],
 "metadata": {
  "kernelspec": {
   "display_name": "vietfin-dev",
   "language": "python",
   "name": "python3"
  },
  "language_info": {
   "codemirror_mode": {
    "name": "ipython",
    "version": 3
   },
   "file_extension": ".py",
   "mimetype": "text/x-python",
   "name": "python",
   "nbconvert_exporter": "python",
   "pygments_lexer": "ipython3",
   "version": "3.10.13"
  }
 },
 "nbformat": 4,
 "nbformat_minor": 2
}
