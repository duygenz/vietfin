{
 "cells": [
  {
   "cell_type": "markdown",
   "metadata": {},
   "source": [
    "# Historical Prices\n",
    "\n",
    "Historical market prices usually come in the form of OHLCV (i.e. open, high, low, close, volume). The granularity and amount of historical data will vary by provider.\n",
    "\n",
    "## Method `historical()`\n",
    "\n",
    "The `historical()` function is located under a specific class for each asset type.\n",
    "\n",
    "- Common parameters have been standardized across all sources, `start_date`, `end_date`, `interval`.\n",
    "- The default `end_date` is the current date.\n",
    "- The default `start_date` is 60 days before the `end_date`.\n",
    "- The default `interval` is `1d`.\n",
    "- The intervals follow the pattern as shown below. Though not all sources support all intervals.\n",
    "\n",
    "    - `1m` = one minute\n",
    "    - `1h` = one hour\n",
    "    - `1d` = one day\n",
    "    - `1w` = one week\n",
    "    - `1mo` = one month\n",
    "\n",
    "## Retrieve historical prices\n",
    "\n",
    "For example, we will get historical prices of the stock ticker `VNM`."
   ]
  },
  {
   "cell_type": "code",
   "execution_count": 1,
   "metadata": {},
   "outputs": [
    {
     "name": "stdout",
     "output_type": "stream",
     "text": [
      "end_date not provided, set to 2024-02-27\n",
      "start_date not provided, set to 2023-12-29\n",
      "Retrieved 36 historical price data point for symbol VNM.\n"
     ]
    },
    {
     "data": {
      "text/plain": [
       "VfObject\n",
       "\n",
       "results: [{'date': datetime.date(2023, 12, 29), 'open': 68700.0, 'high': 68700.0, '...\n",
       "provider: tcbs\n",
       "extra: {'command_run_at': '2024-02-27T01:10:17.464843+00:00', 'symbol': 'VNM', 'rec...\n",
       "raw_data: [{'ticker': 'VNM', 'data': [{'open': 67795.0, 'high': 67894.0, 'low': 673..."
      ]
     },
     "execution_count": 1,
     "metadata": {},
     "output_type": "execute_result"
    }
   ],
   "source": [
    "from vietfin import vf\n",
    "import pandas as pd\n",
    "\n",
    "vf.equity.price.historical(symbol=\"vnm\")"
   ]
  },
  {
   "cell_type": "markdown",
   "metadata": {},
   "source": [
    "A mutual fund with symbol like `VESAF` is also supported."
   ]
  },
  {
   "cell_type": "code",
   "execution_count": 4,
   "metadata": {},
   "outputs": [
    {
     "name": "stdout",
     "output_type": "stream",
     "text": [
      "end_date not provided, set to 2024-02-24\n",
      "start_date not provided, set to 2023-12-26\n",
      "Retrieved 38 daily NAV data point for fund VESAF.\n"
     ]
    },
    {
     "data": {
      "text/plain": [
       "VfObject\n",
       "\n",
       "results: [{'date': '2023-12-26', 'nav_per_share': 25684.33, 'fund_id': 23}, {'date'...\n",
       "provider: fmarket\n",
       "extra: {'command_run_at': '2024-02-24T03:39:32.781606+00:00', 'symbol': 'VESAF', 'r...\n",
       "raw_data: {'status': 200, 'code': 200, 'time': 1708745972441, 'message': 'Thành côn..."
      ]
     },
     "execution_count": 4,
     "metadata": {},
     "output_type": "execute_result"
    }
   ],
   "source": [
    "vf.funds.historical(symbol=\"vesaf\")"
   ]
  },
  {
   "cell_type": "markdown",
   "metadata": {},
   "source": [
    "An ETF symbol like `E1VFVN30` works as well."
   ]
  },
  {
   "cell_type": "code",
   "execution_count": 3,
   "metadata": {},
   "outputs": [
    {
     "name": "stdout",
     "output_type": "stream",
     "text": [
      "end_date not provided, set to 2024-02-24\n",
      "start_date not provided, set to 2023-12-26\n",
      "Retrieved 38 historical price data point for ticker E1VFVN30.\n"
     ]
    },
    {
     "data": {
      "text/plain": [
       "VfObject\n",
       "\n",
       "results: [{'date': datetime.datetime(2023, 12, 26, 0, 0, tzinfo=TzInfo(UTC)), 'open...\n",
       "provider: tcbs\n",
       "extra: {'command_run_at': '2024-02-24T03:39:01.152593+00:00', 'symbol': 'E1VFVN30',...\n",
       "raw_data: [{'ticker': 'E1VFVN30', 'data': [{'open': 18800.0, 'high': 18800.0, 'low'..."
      ]
     },
     "execution_count": 3,
     "metadata": {},
     "output_type": "execute_result"
    }
   ],
   "source": [
    "vf.etf.historical(symbol=\"e1vfvn30\")"
   ]
  },
  {
   "cell_type": "markdown",
   "metadata": {},
   "source": [
    "Or the symbol of an index like `vn30` is also retrievable."
   ]
  },
  {
   "cell_type": "code",
   "execution_count": 5,
   "metadata": {},
   "outputs": [
    {
     "name": "stdout",
     "output_type": "stream",
     "text": [
      "end_date not provided, set to 2024-02-24\n",
      "start_date not provided, set to 2023-12-26\n",
      "Retrieved 38 historical price data point for ticker VN30.\n"
     ]
    },
    {
     "data": {
      "text/plain": [
       "VfObject\n",
       "\n",
       "results: [{'date': datetime.datetime(2023, 12, 26, 0, 0, tzinfo=TzInfo(UTC)), 'open...\n",
       "provider: tcbs\n",
       "extra: {'command_run_at': '2024-02-24T03:42:41.671788+00:00', 'symbol': 'VN30', 're...\n",
       "raw_data: [{'ticker': 'VN30', 'data': [{'open': 1085.26, 'high': 1087.34, 'low': 10..."
      ]
     },
     "execution_count": 5,
     "metadata": {},
     "output_type": "execute_result"
    }
   ],
   "source": [
    "vf.index.price.historical(symbol=\"vn30\")"
   ]
  },
  {
   "cell_type": "markdown",
   "metadata": {},
   "source": [
    "## Differences Between Sources\n",
    "\n",
    "Let's try to compare the values for daily volume of a stock ticker from several sources, to see the variation between providers."
   ]
  },
  {
   "cell_type": "code",
   "execution_count": 2,
   "metadata": {},
   "outputs": [
    {
     "name": "stdout",
     "output_type": "stream",
     "text": [
      "end_date not provided, set to 2024-02-27\n",
      "start_date not provided, set to 2023-12-29\n",
      "Retrieved 36 historical price data point for symbol FPT.\n",
      "end_date not provided, set to 2024-02-27\n",
      "start_date not provided, set to 2023-12-29\n",
      "Retrieved 36 historical price data point for symbol FPT.\n",
      "end_date not provided, set to 2024-02-27\n",
      "start_date not provided, set to 2023-12-29\n",
      "Retrieved 36 historical price data for symbol FPT.\n"
     ]
    },
    {
     "data": {
      "text/html": [
       "<div>\n",
       "<style scoped>\n",
       "    .dataframe tbody tr th:only-of-type {\n",
       "        vertical-align: middle;\n",
       "    }\n",
       "\n",
       "    .dataframe tbody tr th {\n",
       "        vertical-align: top;\n",
       "    }\n",
       "\n",
       "    .dataframe thead th {\n",
       "        text-align: right;\n",
       "    }\n",
       "</style>\n",
       "<table border=\"1\" class=\"dataframe\">\n",
       "  <thead>\n",
       "    <tr style=\"text-align: right;\">\n",
       "      <th></th>\n",
       "      <th>tcbs</th>\n",
       "      <th>dnse</th>\n",
       "      <th>ssi</th>\n",
       "      <th>[tcbs-dnse]</th>\n",
       "      <th>[ssi-dnse]</th>\n",
       "    </tr>\n",
       "    <tr>\n",
       "      <th>date</th>\n",
       "      <th></th>\n",
       "      <th></th>\n",
       "      <th></th>\n",
       "      <th></th>\n",
       "      <th></th>\n",
       "    </tr>\n",
       "  </thead>\n",
       "  <tbody>\n",
       "    <tr>\n",
       "      <th>2024-02-20</th>\n",
       "      <td>1848111</td>\n",
       "      <td>1844300</td>\n",
       "      <td>1844300</td>\n",
       "      <td>3811</td>\n",
       "      <td>0</td>\n",
       "    </tr>\n",
       "    <tr>\n",
       "      <th>2024-02-21</th>\n",
       "      <td>3141692</td>\n",
       "      <td>3137500</td>\n",
       "      <td>3137500</td>\n",
       "      <td>4192</td>\n",
       "      <td>0</td>\n",
       "    </tr>\n",
       "    <tr>\n",
       "      <th>2024-02-22</th>\n",
       "      <td>1722092</td>\n",
       "      <td>1718700</td>\n",
       "      <td>1718700</td>\n",
       "      <td>3392</td>\n",
       "      <td>0</td>\n",
       "    </tr>\n",
       "    <tr>\n",
       "      <th>2024-02-23</th>\n",
       "      <td>4108378</td>\n",
       "      <td>4103500</td>\n",
       "      <td>4103500</td>\n",
       "      <td>4878</td>\n",
       "      <td>0</td>\n",
       "    </tr>\n",
       "    <tr>\n",
       "      <th>2024-02-26</th>\n",
       "      <td>4472548</td>\n",
       "      <td>4466700</td>\n",
       "      <td>4466700</td>\n",
       "      <td>5848</td>\n",
       "      <td>0</td>\n",
       "    </tr>\n",
       "  </tbody>\n",
       "</table>\n",
       "</div>"
      ],
      "text/plain": [
       "               tcbs     dnse      ssi  [tcbs-dnse]  [ssi-dnse]\n",
       "date                                                          \n",
       "2024-02-20  1848111  1844300  1844300         3811           0\n",
       "2024-02-21  3141692  3137500  3137500         4192           0\n",
       "2024-02-22  1722092  1718700  1718700         3392           0\n",
       "2024-02-23  4108378  4103500  4103500         4878           0\n",
       "2024-02-26  4472548  4466700  4466700         5848           0"
      ]
     },
     "execution_count": 2,
     "metadata": {},
     "output_type": "execute_result"
    }
   ],
   "source": [
    "# Collect historical prices of stock ticker \"FPT\" from three providers, TCBS, SSI and DNSE.\n",
    "tcbs = vf.equity.price.historical(symbol=\"fpt\", provider=\"tcbs\").to_df()\n",
    "dnse = vf.equity.price.historical(symbol=\"fpt\", provider=\"dnse\").to_df()\n",
    "ssi = vf.equity.price.historical(symbol=\"fpt\", provider=\"ssi\").to_df()\n",
    "\n",
    "# Compare the last 5 rows of \"volume\" column\n",
    "compare = pd.DataFrame()\n",
    "compare[\"tcbs\"] = tcbs[\"volume\"].tail(5)\n",
    "compare[\"dnse\"] = dnse[\"volume\"].tail(5)\n",
    "compare[\"ssi\"] = ssi[\"volume\"].tail(5)\n",
    "compare [\"[tcbs-dnse]\"] = compare[\"tcbs\"] - compare[\"dnse\"]\n",
    "compare [\"[ssi-dnse]\"] = compare[\"ssi\"] - compare[\"dnse\"]\n",
    "\n",
    "compare"
   ]
  }
 ],
 "metadata": {
  "kernelspec": {
   "display_name": "vietfin-dev",
   "language": "python",
   "name": "python3"
  },
  "language_info": {
   "codemirror_mode": {
    "name": "ipython",
    "version": 3
   },
   "file_extension": ".py",
   "mimetype": "text/x-python",
   "name": "python",
   "nbconvert_exporter": "python",
   "pygments_lexer": "ipython3",
   "version": "3.10.13"
  }
 },
 "nbformat": 4,
 "nbformat_minor": 2
}
